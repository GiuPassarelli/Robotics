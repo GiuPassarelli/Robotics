{
 "cells": [
  {
   "cell_type": "markdown",
   "metadata": {},
   "source": [
    "# Transformações geométricas - APS de Visão"
   ]
  },
  {
   "cell_type": "markdown",
   "metadata": {},
   "source": [
    "## Criação da imagem"
   ]
  },
  {
   "cell_type": "markdown",
   "metadata": {},
   "source": [
    "Vamos gerar uma imagem de entrada com algumas coordenadas conhecidas.  Desta seção você só vai precisar das coordenadas dos pontos na imagem de entrada e na imagem de saída"
   ]
  },
  {
   "cell_type": "code",
   "execution_count": 1,
   "metadata": {
    "collapsed": true
   },
   "outputs": [],
   "source": [
    "import matplotlib.pyplot as plt\n",
    "\n",
    "from matplotlib import colors\n",
    "\n",
    "import cv2\n",
    "\n",
    "import numpy as np\n",
    "\n",
    "%matplotlib inline\n",
    "\n",
    "\n",
    "sp_x = 30\n",
    "sp_y = 30\n",
    "x_blocks = 6\n",
    "y_blocks = 6"
   ]
  },
  {
   "cell_type": "code",
   "execution_count": 2,
   "metadata": {
    "collapsed": true
   },
   "outputs": [],
   "source": [
    "# Cria uma imagem RGB  em branco\n",
    "blank = 255*np.ones((sp_x * x_blocks,sp_y*y_blocks,3), np.uint8)"
   ]
  },
  {
   "cell_type": "code",
   "execution_count": 3,
   "metadata": {
    "collapsed": true
   },
   "outputs": [],
   "source": [
    "# Coordenadas de entrada de alguns pontos\n",
    "points = [[1,1],\n",
    "          [5,1],\n",
    "          [1,3],\n",
    "          [3,3],\n",
    "          [5,3],\n",
    "          [1,5],\n",
    "          [5,5]]"
   ]
  },
  {
   "cell_type": "code",
   "execution_count": 4,
   "metadata": {
    "collapsed": true
   },
   "outputs": [],
   "source": [
    "# Cores a usar para os pontos\n",
    "point_colors = ['r', 'g', 'b', 'c', 'm', 'y', 'k']"
   ]
  },
  {
   "cell_type": "markdown",
   "metadata": {},
   "source": [
    "## Coordenadas dos pontos na imagem de entrada\n",
    "\n",
    "Este loop imprime as coordenadas.\n",
    "\n",
    "As cores dos pontos servem para identificá-los"
   ]
  },
  {
   "cell_type": "code",
   "execution_count": 5,
   "metadata": {},
   "outputs": [
    {
     "name": "stdout",
     "output_type": "stream",
     "text": [
      "Posição dos pontos: (x_entrada, y_entrada)\n",
      "(30, 30)\n",
      "(150, 30)\n",
      "(30, 90)\n",
      "(90, 90)\n",
      "(150, 90)\n",
      "(30, 150)\n",
      "(150, 150)\n"
     ]
    }
   ],
   "source": [
    "sp_x = 30 # x spacing\n",
    "sp_y = 30 # y spacing\n",
    "point_size = 5\n",
    "print(\"Posição dos pontos: (x_entrada, y_entrada)\")\n",
    "\n",
    "for i in range(len(points)):\n",
    "    point_color = [int(255*canal) for canal in colors.colorConverter.colors[point_colors[i]]]\n",
    "    point_position = (sp_x*points[i][0], sp_y*points[i][1])\n",
    "    print(point_position)\n",
    "    cv2.circle(blank,point_position, point_size, point_color, -1)\n"
   ]
  },
  {
   "cell_type": "markdown",
   "metadata": {},
   "source": [
    "## Imagem de entrada"
   ]
  },
  {
   "cell_type": "markdown",
   "metadata": {},
   "source": [
    "Tudo o que foi geito até agora teve como única finalidade gerar esta imagem, que será gravada no arquivo `dots_pattern.png` ."
   ]
  },
  {
   "cell_type": "code",
   "execution_count": 6,
   "metadata": {},
   "outputs": [
    {
     "data": {
      "text/plain": [
       "<matplotlib.image.AxesImage at 0x99823c8>"
      ]
     },
     "execution_count": 6,
     "metadata": {},
     "output_type": "execute_result"
    },
    {
     "data": {
      "image/png": "[encoded data removed]",
      "text/plain": [
       "<matplotlib.figure.Figure at 0x9842b70>"
      ]
     },
     "metadata": {},
     "output_type": "display_data"
    }
   ],
   "source": [
    "plt.imshow(blank)"
   ]
  },
  {
   "cell_type": "markdown",
   "metadata": {},
   "source": [
    "Se precisar abrir a imagem fora deste *notebook*, use o arquivo `dots_pattern.png`\n"
   ]
  },
  {
   "cell_type": "code",
   "execution_count": 7,
   "metadata": {},
   "outputs": [
    {
     "data": {
      "text/plain": [
       "True"
      ]
     },
     "execution_count": 7,
     "metadata": {},
     "output_type": "execute_result"
    }
   ],
   "source": [
    "cv2.imwrite(\"dots_pattern.png\", blank)"
   ]
  },
  {
   "cell_type": "markdown",
   "metadata": {},
   "source": [
    "## Padrão de saída\n",
    "\n",
    "Foi aplicada uma transformação à imagem de entrada, que gerou o seguinte padrão de saída:"
   ]
  },
  {
   "cell_type": "code",
   "execution_count": 8,
   "metadata": {
    "collapsed": true
   },
   "outputs": [],
   "source": [
    "saida = cv2.imread(\"patterns_transformed.png\")\n",
    "\n",
    "saida_rgb = cv2.cvtColor(saida, cv2.COLOR_BGR2RGB)"
   ]
  },
  {
   "cell_type": "code",
   "execution_count": 9,
   "metadata": {},
   "outputs": [
    {
     "data": {
      "text/plain": [
       "<matplotlib.image.AxesImage at 0x9c3ae80>"
      ]
     },
     "execution_count": 9,
     "metadata": {},
     "output_type": "execute_result"
    },
    {
     "data": {
      "image/png": "[encoded data removed]",
      "text/plain": [
       "<matplotlib.figure.Figure at 0x9a56400>"
      ]
     },
     "metadata": {},
     "output_type": "display_data"
    }
   ],
   "source": [
    "plt.imshow(saida)"
   ]
  },
  {
   "cell_type": "markdown",
   "metadata": {},
   "source": [
    "Sabe-se que a imagem de saída é igual a uma combinação de rotações em torno de um ponto arbitrário e  redimensionamentos (escala) da imagem de entrada. Para simplificar, assuma que o redimensionamento é igual nos eixos $x$ e $y$\n",
    "\n",
    "Cada ponto da imagem de saída está relacionado à sua posição na imagem de entrada pela seguinte transformação:\n",
    "\n",
    "$$\n",
    "\\begin{pmatrix}\n",
    "x_{saida} \\\\\n",
    "y_{saida} \\\\\n",
    "1\n",
    "\\end{pmatrix}\n",
    " = \n",
    "\\begin{pmatrix}\n",
    "   \\alpha &\\beta &(1-\\alpha \\cdot center.x - \\beta \\cdot center.y) \\\\\n",
    "   -\\beta & \\alpha & \\beta \\cdot center.x + (1 - \\alpha \\cdot center.y) \\\\ 0 & 0 & 1\n",
    "\\end{pmatrix} \\cdot \\begin{pmatrix} x_{entrada} \\\\ y_{entrada} \\\\ 1 \\end{pmatrix} \n",
    "$$\n",
    "\n",
    "Na equação acima:\n",
    "\n",
    "$\\alpha = escala \\cdot \\cos(\\theta)$ \n",
    "\n",
    "$\\beta = escala \\cdot \\sin(\\theta) $ \n",
    "\n",
    "$x_{entrada}$ é a posição $x$ de cada pixel na imagem de entrada\n",
    "\n",
    "$y_{entrada}$ é a posição $y$ de cada pixel na imagem de entrada\n",
    "\n",
    "$center$ é o centro de rotação\n",
    "\n",
    "$x_{saída}$ é a coordenada $x$ do pixel na imagem de saída\n",
    "\n",
    "$y_{saída}$ é a coordenada $y$ do pixel na imagem de saída\n",
    "\n",
    "\n",
    "Com translação:\n",
    "\n",
    "$$\n",
    "\\begin{pmatrix}\n",
    "x_{saida} \\\\\n",
    "y_{saida} \\\\\n",
    "1\n",
    "\\end{pmatrix}\n",
    " =\n",
    "\\begin{pmatrix}\n",
    "   \\alpha &\\beta &(1-\\alpha \\cdot center.x - \\beta \\cdot center.y) + t_x \\\\\n",
    "   -\\beta & \\alpha & \\beta \\cdot center.x + (1 - \\alpha \\cdot center.y) + t_y \\\\ 0 & 0 & 1\n",
    "\\end{pmatrix} \\cdot \\begin{pmatrix} x_{entrada} \\\\ y_{entrada} \\\\ 1 \\end{pmatrix}\n",
    "$$\n",
    "\n"
   ]
  },
  {
   "cell_type": "markdown",
   "metadata": {},
   "source": [
    "# Matrizes de transformação com rotação, translação e escala\n",
    "\n",
    "\n",
    "O objetivo desta seção é só entender a forma da transformação de saída expressa na equação que fecha a seção anterior.\n",
    "\n",
    "Uma matriz de translação por uma distância $ [ x_t   y_t ]$ em 2D é:\n",
    "\n",
    "$$\n",
    "T = \\begin{pmatrix} 1 & 0 & x_t \\\\\n",
    "0 & 1 & y_t \\\\\n",
    "0 & 0 & 1 \n",
    "\\end{pmatrix}\n",
    "$$\n",
    "\n",
    "Uma matriz de rotação por um ângulo $\\theta$ é:\n",
    "\n",
    "$$\n",
    "R = \\begin{pmatrix} \\cos(\\theta) & -\\sin(\\theta) & 0 \\\\\n",
    "\\sin(\\theta) & \\cos(\\theta) & 0 \\\\\n",
    "0 & 0 & 1 \n",
    "\\end{pmatrix}\n",
    "$$\n",
    "\n",
    "Uma matriz que aplica um fator de escala  $s$ igual nos eixos $x$ e $y$ é:\n",
    "\n",
    "\n",
    "$$\n",
    "S = \\begin{pmatrix} s & 0  & 0 \\\\\n",
    "0 & s & 0 \\\\\n",
    "0 & 0 & 1 \n",
    "\\end{pmatrix}\n",
    "$$\n",
    "\n",
    "\n",
    "Uma transformação genérica, composta de rotação, escala e transação (nesta ordem) é dada por:\n",
    "\n",
    "$$\n",
    "M = T \\cdot S \\cdot R\n",
    "$$\n",
    "\n",
    "Ou seja:\n",
    "$$\n",
    "M = \\begin{pmatrix} 1 & 0 & x_t \\\\\n",
    "0 & 1 & y_t \\\\\n",
    "0 & 0 & 1 \n",
    "\\end{pmatrix}\n",
    "\\cdot\n",
    "\\begin{pmatrix} \\cos(\\theta) & -\\sin(\\theta) & 0 \\\\\n",
    "\\sin(\\theta) & \\cos(\\theta) & 0 \\\\\n",
    "0 & 0 & 1 \n",
    "\\end{pmatrix}\n",
    "\\cdot\n",
    "\\begin{pmatrix} s & 0  & 0 \\\\\n",
    "0 & s & 0 \\\\\n",
    "0 & 0 & 1 \n",
    "\\end{pmatrix}\n",
    "$$\n",
    "\n",
    "Multiplicando as três matrizes, temos que uma transformação afim composta de rotação, escala e translação é:\n",
    "\n",
    "$$\n",
    "M = \\begin{pmatrix} s\\cdot\\cos(\\theta) & -s\\cdot\\sin(\\theta) & x_t \\\\\n",
    "-s\\cdot\\sin(\\theta) & -s\\cdot\\cos(\\theta) & y_t \\\\\n",
    "0 & 0 & 1 \n",
    "\\end{pmatrix}\n",
    "$$\n",
    "\n",
    "\n",
    "Desta forma, um ponto de entrada representado por $( x_{i}, y_{i} ) $ será transformado num ponto de saída $(x_{saida}, y_{saida})$ quando multiplicado pela matrix $M$\n",
    "\n",
    "\n",
    "$$\n",
    "\\begin{pmatrix}x_{saida} \\\\ y_{saida} \\end{pmatrix} = \\begin{pmatrix} s\\cdot\\cos(\\theta) & -s\\cdot\\sin(\\theta) & x_t \\\\\n",
    "-s\\cdot\\sin(\\theta) & -s\\cdot\\cos(\\theta) & y_t \\\\\n",
    "0 & 0 & 1 \n",
    "\\end{pmatrix} \\cdot \\begin{pmatrix} x_{i} \\\\ y_{i} \\end{pmatrix} \n",
    "$$\n",
    "\n",
    "Teremos, então:\n",
    "\n",
    "$$\n",
    "x_{saida} = x_{i} \\cdot s \\cdot \\cos(\\theta) - y_{i} \\cdot s \\cdot \\sin(\\theta) + x_t $$\n",
    "e \n",
    "$$ y_{saida} = - x_{i} \\cdot s \\cdot \\sin(\\theta) - y_{i} \\cdot s \\cdot \\cos(\\theta) + y_t\n",
    "$$\n",
    "\n",
    "Por simplicidade, ao estimar uma transformação, ajuda trabalhar com as seguintes relações:\n",
    "\n",
    "$\\alpha =  s \\cdot \\cos(\\theta)$\n",
    "\n",
    "e \n",
    "\n",
    "$\\beta = s \\cdot \\sin(\\theta) $\n",
    "\n",
    "E encarar a matriz da seguinte forma:\n",
    "\n",
    "\n",
    "$$\n",
    "\\begin{pmatrix}x_{saida} \\\\ y_{saida} \\end{pmatrix} = \\begin{pmatrix} \\alpha & -\\beta & x_t \\\\\n",
    "-\\beta & -\\alpha & y_t \\\\\n",
    "0 & 0 & 1 \n",
    "\\end{pmatrix} \\cdot \\begin{pmatrix} x_{i} \\\\ y_{i} \\end{pmatrix} \n",
    "$$\n",
    "\n"
   ]
  },
  {
   "cell_type": "markdown",
   "metadata": {},
   "source": [
    "# APS Visão\n",
    "\n",
    "Responda (no IPython Notebook): \n",
    "\n",
    "1. Quantos graus de liberdade (variáveis) determinam a transformação acima?\n",
    "\n",
    "2. Supondo que a transformação aplicada para transformar a imagem de entrada na imagem do arquivo `patterns_transformed.png` é desconhecida, é possível descobrir qual é esta transformação? Como?\n",
    "\n",
    "3. Crie uma tabela para os 7 pontos de entrada fornecidos em que constem quais suas posições na imagem de entrada e depois quais suas posições após transformados, na imagem de saída.\n",
    "\n",
    "4. Considerando o número de variáveis da matriz de transformação fornecida, de quantas correspondências $p_{entrada} \\Rightarrow p_{saida}$ você precisa para descobrir qual é a matriz?\n",
    "\n",
    "5. Por que poderia ser útil usar **mais** correspondências do que a resposta que você deu no item anterior?\n",
    "\n",
    "6. Expanda a equação da transformação usando os pontos de entrada e saída de sua tabela até ter um sistema sobredeterminado. <font color=red> Reserve pelo menos 1 hora para esta atividade - trabalhoso </font>. Talvez você ache útil aprender a usar um *Computer Algebra System* para fazer isso, por exemplo o Sympy ou o Maxima.\n",
    "\n",
    "7. A partir do sistema sobredeterminado que você encontrou no item anterior, resolva e estime qual é a transformação que foi usada para converter a imagem de entrada na imagem de saída. Você pode usar o método de *Least Squares* que está presente no *Scipy* ou o *RANSAC* da OpenCV, por exemplo.\n",
    "\n",
    "8. Aplique a transformação à imagem de entrada e verifique se o resultado que obteve se assemelha à imagem de saída. A função da OpenCV que permite que você faça isso é a *cv2.warpAffine()* \n",
    "\n",
    "9. Abra a imagem `patterns_transformed.png`  na tela do seu celular e imprima na tela em tempo real a rotação da imagem"
   ]
  },
  {
   "cell_type": "markdown",
   "metadata": {},
   "source": [
    "1) A função de transformação possui 4 graus de liberdade (as variáveis s, $\\theta$, $x_{t}$, $y_{t}$).<br>\n",
    "\n",
    "2) É possível descobrir a transformação pois, apenas comparando as imagens conseguimos detectar se ela sofreu rotação. Assim, podemos calcular o ângulo de rotação ($\\theta$) por meio do arco tangente do vetor da transformação em dois pontos diferentes. E, depois, subtituimos $\\theta$ nas equações da transformação para descobrir os outros valores.<br>\n",
    "\n",
    "3) -----------Entrada------------Saída          <br>\n",
    "AZULES----(30, 30)------------(137, 94)      <br>\n",
    "VERDE-----(150, 30)-----------(248, 141)     <br>\n",
    "VERM------(30, 90)------------(114, 150)     <br>\n",
    "AZULCL----(90, 90)------------(170, 173)     <br>\n",
    "ROSA------(150, 90)-----------(225, 196)     <br>\n",
    "AMAR------(30, 150)-----------(92, 205)      <br>\n",
    "PRETO-----(150, 150)----------(202, 251)     <br>\n",
    "    \n",
    "4) Seriam necessários 2 pontos para descobrir a matriz transformação.\n",
    "\n",
    "5) Para realizar a transformação seria interressante utilizar mais correspôndencias do que o mínimo para validar a resposta obtida no processo de transformação e, também, para se certificar de que ele está sendo realizado de forma correta. Isso se dá pois o arredondamento que a tranformação realiza ao eliminar os números após a vírgula no caso de decimais pode gerar erros graves de imprecisão."
   ]
  },
  {
   "cell_type": "code",
   "execution_count": 10,
   "metadata": {},
   "outputs": [
    {
     "name": "stdout",
     "output_type": "stream",
     "text": [
      "('Theta:', 0.39287050746464774)\n",
      "('Escala:', 1.0012838980251526)\n",
      "('Xt:', 120.85418295425441)\n",
      "('Yt:', 55.00164190489147)\n"
     ]
    },
    {
     "data": {
      "text/plain": [
       "<matplotlib.image.AxesImage at 0x9b89f98>"
      ]
     },
     "execution_count": 10,
     "metadata": {},
     "output_type": "execute_result"
    },
    {
     "data": {
      "image/png": "[encoded data removed]",
      "text/plain": [
       "<matplotlib.figure.Figure at 0x64ea240>"
      ]
     },
     "metadata": {},
     "output_type": "display_data"
    }
   ],
   "source": [
    "#6)\n",
    "import math\n",
    "from __future__ import division\n",
    "\n",
    "#Foi usado o rosa, o preto e o vermelho\n",
    "r1 = [150, 90]\n",
    "r2 = [225, 196]\n",
    "p1 = [150, 150]\n",
    "p2 = [202, 251]\n",
    "v1 = [30, 90]\n",
    "v2 = [114, 150]\n",
    "\n",
    "theta = math.atan2((r2[1]-v2[1]),(r2[0]-v2[0]))\n",
    "s = (p2[0]-v2[0])/(p1[0]*math.cos(theta)-p1[1]*math.sin(theta)-v1[0]*math.cos(theta)+v1[1]*math.sin(theta))\n",
    "xt = p2[0] + p1[1]*math.sin(theta) - p1[0]*math.cos(theta)\n",
    "yt = p2[1] - p1[0]*math.sin(theta) - p1[1]*math.cos(theta)\n",
    "\n",
    "print(\"Theta:\", theta)\n",
    "print(\"Escala:\", s)\n",
    "print(\"Xt:\",xt)\n",
    "print(\"Yt:\",yt)\n",
    "\n",
    "M = np.float32([[s*math.cos(theta),-s*math.sin(theta),xt],[s*math.sin(theta),s*math.cos(theta),yt]])\n",
    "rows,cols,i = blank.shape\n",
    "dst = cv2.warpAffine(blank,M,(300,300))\n",
    "saida_rgb = cv2.cvtColor(dst, cv2.COLOR_BGR2RGB)\n",
    "plt.imshow(dst)"
   ]
  },
  {
   "cell_type": "code",
   "execution_count": 11,
   "metadata": {},
   "outputs": [
    {
     "name": "stdout",
     "output_type": "stream",
     "text": [
      "1.03037682652\n",
      "0.725517798001\n"
     ]
    },
    {
     "data": {
      "text/plain": [
       "[0.80391566808978432, 3.776641907298766]"
      ]
     },
     "execution_count": 11,
     "metadata": {},
     "output_type": "execute_result"
    }
   ],
   "source": [
    "def tevira(p1,p2):\n",
    "#Agora, gimme duas relações de pontos dos dois planos\n",
    "#p1 = [[xi,yi],[xw,yw]] #i é o plano de origem e w é o plano de destino\n",
    "#p2 = [[xi,yi],[xw,yw]]\n",
    "    import numpy as np\n",
    "    import math\n",
    "    xi1 = p1[0][0]\n",
    "    yi1 = p1[0][1]\n",
    "    xi2 = p2[0][0]\n",
    "    yi2 = p2[0][1]\n",
    "    \n",
    "    #Descobrindo o ângulo da transformação\n",
    "    \n",
    "    iP2P1 = [(xi2-xi1),(yi2-yi1)]\n",
    "    tetaI = math.atan2(iP2P1[0],iP2P1[1])\n",
    "    print(tetaI)\n",
    "    xw1 = p1[1][0] \n",
    "    yw1 = p1[1][1]\n",
    "    xw2 = p2[1][0]\n",
    "    yw2 = p2[1][1]\n",
    "    \n",
    "    wP2P1 = [(xw2-xw1),(yw2-yw1)]\n",
    "    tetaW = math.atan2(wP2P1[0],wP2P1[1])\n",
    "    print(tetaW)\n",
    "    tetaF = tetaW - tetaI\n",
    "    \n",
    "    #Guardando o sen e cos pq sim (é mais fácil)\n",
    "    senf = np.sin(tetaF)\n",
    "    cosf = np.cos(tetaF)\n",
    "    \n",
    "    #Descobrindo o scaling no eixo X e no eixo y\n",
    "    Sx = (xw2-xw1)/((xi2-xi1)*cosf - (yi2 - yi1)*senf)\n",
    "    Sy = (yw2-yw1)/((xi2-xi1)*senf + (yi2 - yi1)*cosf)\n",
    "    \n",
    "    # Descobrindo as translações em x e y\n",
    "    x0 = xw1 - yi1*Sx*senf + xi1*Sx*cosf\n",
    "    y0 = yw1 - xi1*Sy*senf - yi1*Sy*cosf\n",
    "    \n",
    "    return tetaF,[Sx,Sy],[x0,y0]\n",
    "\n",
    "\n",
    "def acha_centro(img,c_menor, c_maior):\n",
    "    import cv2\n",
    "    output = cv2.inRange(img, c_menor, c_maior)\n",
    "    #plt.imshow(output)\n",
    "    x_max = 0\n",
    "    x_min = 300\n",
    "    y_max = 0\n",
    "    y_min = 300\n",
    "\n",
    "    for i in range(len(output)):\n",
    "        for j in range(len(output[i])):\n",
    "            if output[i][j]:\n",
    "                if(i < x_min):\n",
    "                    x_min = i\n",
    "                if(i > x_max):\n",
    "                    x_max = i\n",
    "                if(j < y_min):\n",
    "                    y_min = j\n",
    "                if(j > y_max):\n",
    "                    y_max = j\n",
    "\n",
    "    return [y_min + (y_max - y_min)/2, x_min + (x_max-x_min)/2] #a saída é [x,y], mas estava invertido\n",
    "\n",
    "\n",
    "#iPontos = np.array([[30, 30],[150, 30],[30, 90],[90, 90],[150, 90],[30, 150],[150, 150]])\n",
    "#30,30 azul\n",
    "#90,30 vermelho\n",
    "saida = cv2.imread(\"patterns_transformed.png\")\n",
    "saida_rgb = cv2.cvtColor(saida, cv2.COLOR_BGR2RGB)\n",
    "\n",
    "azul_menor = np.array([0,0,100])\n",
    "azul_maior = np.array([0, 0, 255])\n",
    "\n",
    "verde_menor = np.array([0,100,0])\n",
    "verde_maior = np.array([0,150,0])\n",
    "\n",
    "verde_centerI = [150,30]\n",
    "azul_centerI = [30,30]\n",
    "\n",
    "verde_centerW = acha_centro(saida_rgb,verde_menor,verde_maior) #attention ESTÃO INVERTIDOS\n",
    "azul_centerW = acha_centro(saida_rgb,azul_menor,azul_maior)\n",
    "\n",
    "#azul_centerW = [137,96] \n",
    "vermelho_centerW = [115,150]\n",
    "\n",
    "#alice[0] = [escala no X,escala no Y]\n",
    "#alice[1] = [translação no X, translação no Y]\n",
    "\n",
    "\n",
    "teta , escalas, trans = tevira([azul_centerI, verde_centerI],[azul_centerW, verde_centerW])\n",
    "\n",
    "escalas\n"
   ]
  },
  {
   "cell_type": "code",
   "execution_count": 12,
   "metadata": {},
   "outputs": [
    {
     "data": {
      "image/png": "[encoded data removed]",
      "text/plain": [
       "<matplotlib.figure.Figure at 0x9a56588>"
      ]
     },
     "metadata": {},
     "output_type": "display_data"
    }
   ],
   "source": [
    "#6) Maneira Fácil (com funções prontas)\n",
    "\n",
    "#300/180 = 1.66666\n",
    "\n",
    "res = cv2.resize(blank, None, fx=1.66666, fy=1.66666, interpolation = cv2.INTER_CUBIC)\n",
    "rows,cols,ch = res.shape\n",
    "\n",
    "pts1 = np.float32([[30,30],[150,30],[150, 150]])\n",
    "pts2 = np.float32([[137.54,94.46],[248.61,140.65],[202.42, 250.69]])\n",
    "\n",
    "M = cv2.getAffineTransform(pts1*1.66666, pts2)       #M = Matriz transformação\n",
    "\n",
    "dst = cv2.warpAffine(res,M,(cols,rows))\n",
    "\n",
    "plt.subplot(121),plt.imshow(blank),plt.title('Input')\n",
    "plt.subplot(122),plt.imshow(dst),plt.title('Output')\n",
    "plt.show()"
   ]
  },
  {
   "cell_type": "markdown",
   "metadata": {},
   "source": [
    "## Referências\n",
    "\n",
    "\n",
    "\n",
    "[Shapiro and Shepard. Computer Vision. Seção 11.2, Capítulo 11](https://courses.cs.washington.edu/courses/cse576/book/ch11.pdf)\n",
    "\n",
    "[http://docs.opencv.org/3.1.0/da/d6e/tutorial_py_geometric_transformations.html#gsc.tab=0](http://docs.opencv.org/3.1.0/da/d6e/tutorial_py_geometric_transformations.html#gsc.tab=0)\n",
    "\n"
   ]
  }
 ],
 "metadata": {
  "kernelspec": {
   "display_name": "Python 2",
   "language": "python",
   "name": "python2"
  },
  "language_info": {
   "codemirror_mode": {
    "name": "ipython",
    "version": 2
   },
   "file_extension": ".py",
   "mimetype": "text/x-python",
   "name": "python",
   "nbconvert_exporter": "python",
   "pygments_lexer": "ipython2",
   "version": "2.7.13"
  }
 },
 "nbformat": 4,
 "nbformat_minor": 1
}
